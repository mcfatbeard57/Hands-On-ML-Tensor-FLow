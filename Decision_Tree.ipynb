{
  "nbformat": 4,
  "nbformat_minor": 0,
  "metadata": {
    "colab": {
      "name": "Decision Tree.ipynb",
      "provenance": [],
      "collapsed_sections": [],
      "toc_visible": true,
      "authorship_tag": "ABX9TyMBo6w1BEhAkPAq1m/Vsq+d",
      "include_colab_link": true
    },
    "kernelspec": {
      "name": "python3",
      "display_name": "Python 3"
    }
  },
  "cells": [
    {
      "cell_type": "markdown",
      "metadata": {
        "id": "view-in-github",
        "colab_type": "text"
      },
      "source": [
        "<a href=\"https://colab.research.google.com/github/mcfatbeard57/Hands-On-ML-Tensor-FLow/blob/main/Decision_Tree.ipynb\" target=\"_parent\"><img src=\"https://colab.research.google.com/assets/colab-badge.svg\" alt=\"Open In Colab\"/></a>"
      ]
    },
    {
      "cell_type": "markdown",
      "metadata": {
        "id": "UTcW0xZIMtyO"
      },
      "source": [
        "Chapter 6 : Decision Trees"
      ]
    },
    {
      "cell_type": "markdown",
      "metadata": {
        "id": "rIMxMViwMymj"
      },
      "source": [
        "# Decision Trees"
      ]
    },
    {
      "cell_type": "markdown",
      "metadata": {
        "id": "WjQKiq3Hqz0I"
      },
      "source": [
        "Dont require Feature Scaling"
      ]
    },
    {
      "cell_type": "markdown",
      "metadata": {
        "id": "rMLOJy7jq4hh"
      },
      "source": [
        "**Gini Impurity**:\r\n",
        "\r\n",
        "1 - (Sum of square of pi,k)\r\n",
        "\r\n",
        "\r\n",
        "• pi,k is the ratio of class k instances among the training instances in the ith node."
      ]
    },
    {
      "cell_type": "markdown",
      "metadata": {
        "id": "vmIZaJdvr5Qn"
      },
      "source": [
        "**Entropy**\r\n",
        "\r\n",
        "Hi = − ( Sum of p * log(p)) "
      ]
    },
    {
      "cell_type": "markdown",
      "metadata": {
        "id": "pH2cB1nnqIRG"
      },
      "source": [
        "## Classification"
      ]
    },
    {
      "cell_type": "markdown",
      "metadata": {
        "id": "7tJCTLn5rSO_"
      },
      "source": [
        "#### CART Algo (greedy algo)\r\n",
        "the algorithm first splits the training set in two subsets using a single feature k and a threshold tk (e.g., “petal length ≤ 2.45 cm”).\r\n",
        "\r\n",
        "**How does it choose k and tk?** \r\n",
        "\r\n",
        "It searches for the pair (k, tk) that produces the purest subsets (weighted by their size)."
      ]
    },
    {
      "cell_type": "markdown",
      "metadata": {
        "id": "M-EI7DXHM77-"
      },
      "source": [
        "### Training"
      ]
    },
    {
      "cell_type": "code",
      "metadata": {
        "colab": {
          "base_uri": "https://localhost:8080/"
        },
        "id": "nhxI35niMnPE",
        "outputId": "3a15a8d2-5608-4e0c-a33c-d895f8f54b1c"
      },
      "source": [
        "from sklearn.datasets import load_iris\r\n",
        "from sklearn.tree import DecisionTreeClassifier\r\n",
        "\r\n",
        "iris = load_iris()\r\n",
        "X = iris.data[:, 2:] # petal length and width\r\n",
        "y = iris.target\r\n",
        "\r\n",
        "tree_clf = DecisionTreeClassifier(max_depth=2, min_samples_leaf=4, random_state=42)\r\n",
        "tree_clf.fit(X, y)"
      ],
      "execution_count": 1,
      "outputs": [
        {
          "output_type": "execute_result",
          "data": {
            "text/plain": [
              "DecisionTreeClassifier(ccp_alpha=0.0, class_weight=None, criterion='gini',\n",
              "                       max_depth=2, max_features=None, max_leaf_nodes=None,\n",
              "                       min_impurity_decrease=0.0, min_impurity_split=None,\n",
              "                       min_samples_leaf=1, min_samples_split=2,\n",
              "                       min_weight_fraction_leaf=0.0, presort='deprecated',\n",
              "                       random_state=42, splitter='best')"
            ]
          },
          "metadata": {
            "tags": []
          },
          "execution_count": 1
        }
      ]
    },
    {
      "cell_type": "markdown",
      "metadata": {
        "id": "RMeCejrwNOUn"
      },
      "source": [
        "### Predicting "
      ]
    },
    {
      "cell_type": "code",
      "metadata": {
        "colab": {
          "base_uri": "https://localhost:8080/"
        },
        "id": "6cYD0J0hNDUM",
        "outputId": "1e2a8da7-9d8e-41bf-887d-4caf7beedae4"
      },
      "source": [
        "tree_clf.predict_proba([[5, 1.5]])"
      ],
      "execution_count": 3,
      "outputs": [
        {
          "output_type": "execute_result",
          "data": {
            "text/plain": [
              "array([[0.        , 0.90740741, 0.09259259]])"
            ]
          },
          "metadata": {
            "tags": []
          },
          "execution_count": 3
        }
      ]
    },
    {
      "cell_type": "markdown",
      "metadata": {
        "id": "1Ur1Fb1VqMM3"
      },
      "source": [
        "## Regression"
      ]
    },
    {
      "cell_type": "code",
      "metadata": {
        "id": "3o18OfobNDr5"
      },
      "source": [
        "from sklearn.tree import DecisionTreeRegressor\r\n",
        "\r\n",
        "tree_reg = DecisionTreeRegressor(max_depth=2, random_state=42, min_samples_leaf=10)\r\n",
        "tree_reg.fit(X, y)"
      ],
      "execution_count": null,
      "outputs": []
    },
    {
      "cell_type": "markdown",
      "metadata": {
        "id": "j1o3aDENsTbA"
      },
      "source": [
        "## Hyperparameters"
      ]
    },
    {
      "cell_type": "markdown",
      "metadata": {
        "id": "pFN8QvvYsj6D"
      },
      "source": [
        "**max_depth** hyperparameter (the default value is None, which means unlimited).\r\n",
        "Reducing max_depth will regularize the model and thus reduce the risk of overfitting."
      ]
    },
    {
      "cell_type": "markdown",
      "metadata": {
        "id": "CQVu9PmpsnSg"
      },
      "source": [
        "**min_samples_split** (the minimum number of samples a node must have before it can be split)"
      ]
    },
    {
      "cell_type": "markdown",
      "metadata": {
        "id": "X58Qig8_snP3"
      },
      "source": [
        "**min_samples_leaf** (the minimum number\r\n",
        "of samples a leaf node must have)"
      ]
    },
    {
      "cell_type": "markdown",
      "metadata": {
        "id": "nzKw0ZIqsm8z"
      },
      "source": [
        "**min_weight_fraction_leaf** (same as\r\n",
        "min_samples_leaf but expressed as a fraction of the total number of weighted\r\n",
        "instances)"
      ]
    },
    {
      "cell_type": "markdown",
      "metadata": {
        "id": "lPJJlC26s1c6"
      },
      "source": [
        "**max_leaf_nodes** (maximum number of leaf nodes)"
      ]
    },
    {
      "cell_type": "markdown",
      "metadata": {
        "id": "4lBYpiOts1aX"
      },
      "source": [
        "**max_features**\r\n",
        "(maximum number of features that are evaluated for splitting at each node)."
      ]
    },
    {
      "cell_type": "markdown",
      "metadata": {
        "id": "OSWhBF5ms714"
      },
      "source": [
        "*** Increasing min_* hyperparameters or reducing max_* hyperparameters will regularize the model.**"
      ]
    },
    {
      "cell_type": "code",
      "metadata": {
        "id": "riHL3Ki9s0cc"
      },
      "source": [
        ""
      ],
      "execution_count": null,
      "outputs": []
    }
  ]
}