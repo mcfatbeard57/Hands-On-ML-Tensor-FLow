{
  "nbformat": 4,
  "nbformat_minor": 0,
  "metadata": {
    "colab": {
      "name": "Decision Tree.ipynb",
      "provenance": [],
      "collapsed_sections": [],
      "toc_visible": true,
      "authorship_tag": "ABX9TyN1CVBcmnawjgfO0PDI+wwN",
      "include_colab_link": true
    },
    "kernelspec": {
      "name": "python3",
      "display_name": "Python 3"
    }
  },
  "cells": [
    {
      "cell_type": "markdown",
      "metadata": {
        "id": "view-in-github",
        "colab_type": "text"
      },
      "source": [
        "<a href=\"https://colab.research.google.com/github/mcfatbeard57/Hands-On-ML-Tensor-FLow/blob/main/Decision_Tree.ipynb\" target=\"_parent\"><img src=\"https://colab.research.google.com/assets/colab-badge.svg\" alt=\"Open In Colab\"/></a>"
      ]
    },
    {
      "cell_type": "markdown",
      "metadata": {
        "id": "UTcW0xZIMtyO"
      },
      "source": [
        "Chapter 6 : Decision Trees"
      ]
    },
    {
      "cell_type": "markdown",
      "metadata": {
        "id": "rIMxMViwMymj"
      },
      "source": [
        "## Decision Trees"
      ]
    },
    {
      "cell_type": "markdown",
      "metadata": {
        "id": "M-EI7DXHM77-"
      },
      "source": [
        "### Training"
      ]
    },
    {
      "cell_type": "code",
      "metadata": {
        "colab": {
          "base_uri": "https://localhost:8080/"
        },
        "id": "nhxI35niMnPE",
        "outputId": "3a15a8d2-5608-4e0c-a33c-d895f8f54b1c"
      },
      "source": [
        "from sklearn.datasets import load_iris\r\n",
        "from sklearn.tree import DecisionTreeClassifier\r\n",
        "\r\n",
        "iris = load_iris()\r\n",
        "X = iris.data[:, 2:] # petal length and width\r\n",
        "y = iris.target\r\n",
        "\r\n",
        "tree_clf = DecisionTreeClassifier(max_depth=2, random_state=42)\r\n",
        "tree_clf.fit(X, y)"
      ],
      "execution_count": 1,
      "outputs": [
        {
          "output_type": "execute_result",
          "data": {
            "text/plain": [
              "DecisionTreeClassifier(ccp_alpha=0.0, class_weight=None, criterion='gini',\n",
              "                       max_depth=2, max_features=None, max_leaf_nodes=None,\n",
              "                       min_impurity_decrease=0.0, min_impurity_split=None,\n",
              "                       min_samples_leaf=1, min_samples_split=2,\n",
              "                       min_weight_fraction_leaf=0.0, presort='deprecated',\n",
              "                       random_state=42, splitter='best')"
            ]
          },
          "metadata": {
            "tags": []
          },
          "execution_count": 1
        }
      ]
    },
    {
      "cell_type": "markdown",
      "metadata": {
        "id": "RMeCejrwNOUn"
      },
      "source": [
        "### Predicting "
      ]
    },
    {
      "cell_type": "code",
      "metadata": {
        "colab": {
          "base_uri": "https://localhost:8080/"
        },
        "id": "6cYD0J0hNDUM",
        "outputId": "1e2a8da7-9d8e-41bf-887d-4caf7beedae4"
      },
      "source": [
        "tree_clf.predict_proba([[5, 1.5]])"
      ],
      "execution_count": 3,
      "outputs": [
        {
          "output_type": "execute_result",
          "data": {
            "text/plain": [
              "array([[0.        , 0.90740741, 0.09259259]])"
            ]
          },
          "metadata": {
            "tags": []
          },
          "execution_count": 3
        }
      ]
    },
    {
      "cell_type": "code",
      "metadata": {
        "id": "3o18OfobNDr5"
      },
      "source": [
        ""
      ],
      "execution_count": null,
      "outputs": []
    }
  ]
}