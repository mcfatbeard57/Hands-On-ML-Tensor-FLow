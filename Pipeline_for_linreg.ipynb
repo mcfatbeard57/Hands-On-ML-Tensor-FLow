{
  "nbformat": 4,
  "nbformat_minor": 0,
  "metadata": {
    "colab": {
      "name": "Pipeline for linreg.ipynb",
      "provenance": [],
      "collapsed_sections": [],
      "authorship_tag": "ABX9TyOdgQU+7K41v5htnLo37RF4",
      "include_colab_link": true
    },
    "kernelspec": {
      "name": "python3",
      "display_name": "Python 3"
    }
  },
  "cells": [
    {
      "cell_type": "markdown",
      "metadata": {
        "id": "view-in-github",
        "colab_type": "text"
      },
      "source": [
        "<a href=\"https://colab.research.google.com/github/mcfatbeard57/Hands-On-ML-Tensor-FLow/blob/main/Pipeline_for_linreg.ipynb\" target=\"_parent\"><img src=\"https://colab.research.google.com/assets/colab-badge.svg\" alt=\"Open In Colab\"/></a>"
      ]
    },
    {
      "cell_type": "markdown",
      "metadata": {
        "id": "FXk8tcPGb_d6"
      },
      "source": [
        "Pipeline for \r\n",
        "\r\n",
        "Polynomial features\r\n",
        "\r\n",
        "Standard scalar and \r\n",
        "\r\n",
        "linear regression(can apply regularization here)\r\n",
        "\r\n",
        "---\r\n",
        "\r\n"
      ]
    },
    {
      "cell_type": "code",
      "metadata": {
        "id": "Z6YdRNNkXCZa"
      },
      "source": [
        "polybig_features = PolynomialFeatures(degree=degree, include_bias=False)\r\n",
        "std_scaler = StandardScaler()\r\n",
        "lin_reg = LinearRegression()\r\n",
        "polynomial_regression = Pipeline([\r\n",
        "            (\"poly_features\", polybig_features),\r\n",
        "            (\"std_scaler\", std_scaler),\r\n",
        "            (\"lin_reg\", lin_reg),\r\n",
        "        ])\r\n",
        "polynomial_regression.fit(X, y)\r\n",
        "y_newbig = polynomial_regression.predict(X_new)"
      ],
      "execution_count": null,
      "outputs": []
    },
    {
      "cell_type": "markdown",
      "metadata": {
        "id": "DLnNRgMmdlBz"
      },
      "source": [
        "Direct pipeline"
      ]
    },
    {
      "cell_type": "code",
      "metadata": {
        "id": "s9RwaUSadkeY"
      },
      "source": [
        "from sklearn.pipeline import Pipeline\r\n",
        "\r\n",
        "polynomial_regression = Pipeline([\r\n",
        "        (\"poly_features\", PolynomialFeatures(degree=10, include_bias=False)),\r\n",
        "        (\"lin_reg\", LinearRegression()),\r\n",
        "    ])"
      ],
      "execution_count": null,
      "outputs": []
    }
  ]
}