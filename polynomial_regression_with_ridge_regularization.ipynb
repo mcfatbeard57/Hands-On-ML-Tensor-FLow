{
  "nbformat": 4,
  "nbformat_minor": 0,
  "metadata": {
    "colab": {
      "name": "polynomial_regression_with_ridge_regularization.ipynb",
      "provenance": [],
      "collapsed_sections": [],
      "toc_visible": true,
      "authorship_tag": "ABX9TyPBwCA77wzLCtMZfYFiCV1A",
      "include_colab_link": true
    },
    "kernelspec": {
      "name": "python3",
      "display_name": "Python 3"
    }
  },
  "cells": [
    {
      "cell_type": "markdown",
      "metadata": {
        "id": "view-in-github",
        "colab_type": "text"
      },
      "source": [
        "<a href=\"https://colab.research.google.com/github/mcfatbeard57/Hands-On-ML-Tensor-FLow/blob/main/polynomial_regression_with_ridge_regularization.ipynb\" target=\"_parent\"><img src=\"https://colab.research.google.com/assets/colab-badge.svg\" alt=\"Open In Colab\"/></a>"
      ]
    },
    {
      "cell_type": "markdown",
      "metadata": {
        "id": "Jq-h1H7OCpwm"
      },
      "source": [
        "## Using pipeline"
      ]
    },
    {
      "cell_type": "code",
      "metadata": {
        "id": "qvp5ucZtCeWp"
      },
      "source": [
        "from sklearn.linear_model import Ridge\r\n",
        "from sklearn.pipeline import make_pipeline\r\n",
        "\r\n",
        "model = make_pipeline(PolynomialFeatures(deg_4),Ridge(alpha=0.02,solver='cholesky'))\r\n",
        "model.fit(x_train,t_train)"
      ],
      "execution_count": null,
      "outputs": []
    },
    {
      "cell_type": "code",
      "metadata": {
        "id": "QGkHwrR_EB_0"
      },
      "source": [
        "# another solver can also be used\r\n",
        "solver = 'sag'"
      ],
      "execution_count": null,
      "outputs": []
    },
    {
      "cell_type": "markdown",
      "metadata": {
        "id": "VLxB_JElCu8C"
      },
      "source": [
        "### Where to do scaling???"
      ]
    },
    {
      "cell_type": "markdown",
      "metadata": {
        "id": "LrJHkvt3C07K"
      },
      "source": [
        "\r\n",
        "## Using SGD\r\n"
      ]
    },
    {
      "cell_type": "code",
      "metadata": {
        "id": "VC9cKNmdCk5G"
      },
      "source": [
        "from sklearn.linear_model import Ridge\r\n",
        "sgd_reg = SGDRegressor(penalty=\"l2\")\r\n",
        "sgd_reg.fit(X, y.ravel())\r\n",
        "sgd_reg.predict([[1.5]])"
      ],
      "execution_count": null,
      "outputs": []
    },
    {
      "cell_type": "code",
      "metadata": {
        "id": "knnxMTYlCk1n"
      },
      "source": [
        ""
      ],
      "execution_count": null,
      "outputs": []
    },
    {
      "cell_type": "code",
      "metadata": {
        "id": "6u89DzZfCkxM"
      },
      "source": [
        ""
      ],
      "execution_count": null,
      "outputs": []
    },
    {
      "cell_type": "code",
      "metadata": {
        "id": "YhOUGfMECktf"
      },
      "source": [
        ""
      ],
      "execution_count": null,
      "outputs": []
    }
  ]
}